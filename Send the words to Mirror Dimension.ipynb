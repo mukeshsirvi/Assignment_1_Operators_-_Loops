{
 "cells": [
  {
   "cell_type": "markdown",
   "id": "73776fbe",
   "metadata": {},
   "source": [
    "### Write a Python program that accepts a word from the user and reverse it."
   ]
  },
  {
   "cell_type": "code",
   "execution_count": 5,
   "id": "971f2c41",
   "metadata": {},
   "outputs": [
    {
     "name": "stdout",
     "output_type": "stream",
     "text": [
      "Enter a Word : Edyoda\n",
      "Output:  adoydE\n"
     ]
    }
   ],
   "source": [
    "word=input(\"Enter a Word : \")\n",
    "rev_word=word[::-1]\n",
    "print(\"Output: \",rev_word)"
   ]
  },
  {
   "cell_type": "code",
   "execution_count": null,
   "id": "9e1dad0b",
   "metadata": {},
   "outputs": [],
   "source": []
  }
 ],
 "metadata": {
  "kernelspec": {
   "display_name": "Python 3 (ipykernel)",
   "language": "python",
   "name": "python3"
  },
  "language_info": {
   "codemirror_mode": {
    "name": "ipython",
    "version": 3
   },
   "file_extension": ".py",
   "mimetype": "text/x-python",
   "name": "python",
   "nbconvert_exporter": "python",
   "pygments_lexer": "ipython3",
   "version": "3.10.1"
  }
 },
 "nbformat": 4,
 "nbformat_minor": 5
}
