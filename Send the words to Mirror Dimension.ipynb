{
 "cells": [
  {
   "cell_type": "markdown",
   "id": "69b0c1c1",
   "metadata": {},
   "source": [
    "### Write a Python program that accepts a word from the user and reverse it."
   ]
  },
  {
   "cell_type": "code",
   "execution_count": 1,
   "id": "04551d6e",
   "metadata": {},
   "outputs": [
    {
     "name": "stdout",
     "output_type": "stream",
     "text": [
      "Enter a Wordmukesh\n",
      "hsekum\n"
     ]
    }
   ],
   "source": [
    "word=input(\"Enter a Word\")\n",
    "rev_word=word[::-1]\n",
    "print(rev_word)"
   ]
  },
  {
   "cell_type": "code",
   "execution_count": null,
   "id": "d6b9c84e",
   "metadata": {},
   "outputs": [],
   "source": []
  }
 ],
 "metadata": {
  "kernelspec": {
   "display_name": "Python 3 (ipykernel)",
   "language": "python",
   "name": "python3"
  },
  "language_info": {
   "codemirror_mode": {
    "name": "ipython",
    "version": 3
   },
   "file_extension": ".py",
   "mimetype": "text/x-python",
   "name": "python",
   "nbconvert_exporter": "python",
   "pygments_lexer": "ipython3",
   "version": "3.10.1"
  }
 },
 "nbformat": 4,
 "nbformat_minor": 5
}
