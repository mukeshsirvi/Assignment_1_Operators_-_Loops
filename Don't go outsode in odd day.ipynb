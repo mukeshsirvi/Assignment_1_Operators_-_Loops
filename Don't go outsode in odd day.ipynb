{
 "cells": [
  {
   "cell_type": "markdown",
   "id": "79a65363",
   "metadata": {},
   "source": [
    "### Write a Python program to count the number of even and odd numbers from a series of numbers."
   ]
  },
  {
   "cell_type": "code",
   "execution_count": 4,
   "id": "6133fef4",
   "metadata": {},
   "outputs": [
    {
     "name": "stdout",
     "output_type": "stream",
     "text": [
      "Numbers of even number 9\n",
      "Numbers of even number 14\n"
     ]
    }
   ],
   "source": [
    "num=(1,2,4,5,47,85,47,9,5,7,4,5,4,7,4,5,4,74,2,5,9,7,414)\n",
    "even_count,odd_count=0,0\n",
    "for i in num:\n",
    "    if i%2==0:\n",
    "        even_count=even_count+1\n",
    "    else:\n",
    "        odd_count=odd_count+1\n",
    "\n",
    "print(\"Numbers of even number {}\".format(even_count))\n",
    "print(\"Numbers of even number {}\".format(odd_count))"
   ]
  },
  {
   "cell_type": "code",
   "execution_count": null,
   "id": "fd532417",
   "metadata": {},
   "outputs": [],
   "source": []
  }
 ],
 "metadata": {
  "kernelspec": {
   "display_name": "Python 3 (ipykernel)",
   "language": "python",
   "name": "python3"
  },
  "language_info": {
   "codemirror_mode": {
    "name": "ipython",
    "version": 3
   },
   "file_extension": ".py",
   "mimetype": "text/x-python",
   "name": "python",
   "nbconvert_exporter": "python",
   "pygments_lexer": "ipython3",
   "version": "3.10.1"
  }
 },
 "nbformat": 4,
 "nbformat_minor": 5
}
